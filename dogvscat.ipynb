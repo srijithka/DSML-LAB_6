{
  "nbformat": 4,
  "nbformat_minor": 0,
  "metadata": {
    "colab": {
      "name": "dogvscat.ipynb",
      "provenance": []
    },
    "kernelspec": {
      "name": "python3",
      "display_name": "Python 3"
    }
  },
  "cells": [
    {
      "cell_type": "code",
      "metadata": {
        "colab": {
          "base_uri": "https://localhost:8080/"
        },
        "id": "njBzQbZXWtZC",
        "outputId": "8f33cb81-c818-4372-fac1-b6a80342230c"
      },
      "source": [
        "from keras.models import model_from_json\r\n",
        "import cv2\r\n",
        "import numpy as np\r\n",
        "\r\n",
        "\r\n",
        "json_file = open('/content/dummy.json', 'r')\r\n",
        "loaded_model_json = json_file.read()\r\n",
        "json_file.close()\r\n",
        "loaded_model = model_from_json(loaded_model_json)\r\n",
        "\r\n",
        "loaded_model.load_weights(\"/content/model.h5\")\r\n",
        "print(\"Loaded model from disk\")\r\n",
        "\r\n",
        "'''loaded_model.compile(loss=keras.losses.categorical_crossentropy,\r\n",
        "              optimizer=keras.optimizers.Adadelta(),\r\n",
        "              metrics=['accuracy'])\r\n",
        "'''\r\n",
        "loaded_model.compile(optimizer = 'adam', loss = 'binary_crossentropy', metrics = ['accuracy'])\r\n",
        "\r\n",
        "img = cv2.imread(\"/content/cat_vs_dog.jfif\")\r\n",
        "img = cv2.resize(img, (50,50))\r\n",
        "print(img.shape)\r\n",
        "img = img.reshape(1, 50, 50, 3)\r\n",
        "\r\n",
        "print(img.shape)\r\n",
        "#print(np.argmax(loaded_model.predict(img)))\r\n",
        "#0-for cat and 1 for dog\r\n",
        "print(loaded_model.predict(img))"
      ],
      "execution_count": 2,
      "outputs": [
        {
          "output_type": "stream",
          "text": [
            "Loaded model from disk\n",
            "(50, 50, 3)\n",
            "(1, 50, 50, 3)\n",
            "[[0.]]\n"
          ],
          "name": "stdout"
        }
      ]
    }
  ]
}